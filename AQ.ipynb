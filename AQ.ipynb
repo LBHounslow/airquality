{
 "cells": [
  {
   "cell_type": "code",
   "execution_count": null,
   "id": "35bf5c2a",
   "metadata": {},
   "outputs": [],
   "source": [
    "# Importing require libraries\n",
    "import pandas as pd\n",
    "import glob\n",
    "import os\n",
    "from matplotlib import pyplot as plt\n",
    "plt.style.use('seaborn')\n",
    "pd.set_option(\"display.max_columns\", None)\n",
    "pd.set_option(\"display.max_rows\", None)\n",
    "from IPython.core.interactiveshell import InteractiveShell\n",
    "InteractiveShell.ast_node_interactivity = 'all'\n",
    "import warnings\n",
    "warnings.filterwarnings('ignore')\n",
    "%matplotlib inline\n"
   ]
  },
  {
   "cell_type": "code",
   "execution_count": null,
   "id": "14dc2720",
   "metadata": {},
   "outputs": [],
   "source": [
    "#setting working dirctory\n",
    "os.chdir('C:\\\\dsq_data_projects\\\\aq_project\\\\data_extracts_per_year')\n"
   ]
  },
  {
   "cell_type": "code",
   "execution_count": null,
   "id": "435c5437",
   "metadata": {},
   "outputs": [],
   "source": [
    "path = 'C:\\\\dsq_data_projects\\\\aq_project\\\\data_extracts_per_year'"
   ]
  },
  {
   "cell_type": "code",
   "execution_count": null,
   "id": "b3b0d29b",
   "metadata": {},
   "outputs": [],
   "source": [
    "# Loading data\n",
    "allFiles= glob.glob(path + '\\*.csv')\n",
    "li = []\n",
    "# reading each files\n",
    "for file in allFiles:\n",
    "    print(file)\n",
    "    data=pd.read_csv(file,low_memory=False) #parse_dates=[['end_date','end_time']])\n",
    "    li.append(data)\n",
    "# combining data     \n",
    "df = pd.concat(li, axis=0,ignore_index=True)\n",
    "\n",
    "# inspecting dataset\n",
    "df.head()"
   ]
  },
  {
   "cell_type": "raw",
   "id": "5ceb909b",
   "metadata": {},
   "source": [
    "df['end_date'] = pd.to_datetime(df['end_date'])"
   ]
  },
  {
   "cell_type": "raw",
   "id": "69c894d5",
   "metadata": {},
   "source": [
    "df['end_date'].dtype"
   ]
  },
  {
   "cell_type": "code",
   "execution_count": null,
   "id": "7c3ad842",
   "metadata": {},
   "outputs": [],
   "source": [
    "# creating function for season\n",
    "def season_of_date(date):\n",
    "    year = str(date.year)\n",
    "    seasons = {'spring': pd.date_range(start='01/03/'+year, end='31/05/'+year),\n",
    "               'summer': pd.date_range(start='01/06/'+year, end='31/08/'+year),\n",
    "               'autumn': pd.date_range(start='01/09/'+year, end='30/11/'+year)}\n",
    "    if date in seasons['spring']:\n",
    "        return 'spring'\n",
    "    if date in seasons['summer']:\n",
    "        return 'summer'\n",
    "    if date in seasons['autumn']:\n",
    "        return 'autumn'\n",
    "    else:\n",
    "        return 'winter'\n",
    "\n",
    "# Assuming df has a date column of type `datetime`\n",
    "#df['season'] = df.end_date.map(season_of_date)"
   ]
  },
  {
   "cell_type": "code",
   "execution_count": null,
   "id": "2eb2ee5e",
   "metadata": {},
   "outputs": [],
   "source": [
    "# changing data type\n",
    "df['Date'] = (pd.to_datetime(df.pop('end_date'), format='%d/%m/%Y') + \n",
    "                  pd.to_timedelta(df.pop('end_time')))\n",
    "# creating the season series\n",
    "df['season'] = df.Date.map(season_of_date)\n",
    "\n",
    "#inspecting the data\n",
    "df.head()"
   ]
  },
  {
   "cell_type": "code",
   "execution_count": null,
   "id": "4e786338",
   "metadata": {},
   "outputs": [],
   "source": [
    "# remove unwanted columns\n",
    "\n",
    "final_columns=[]\n",
    "new_col=[]\n",
    "for col in df.columns:\n",
    "    if(col.endswith('unit')):\n",
    "        new_col.append(col)\n",
    "    else:\n",
    "        final_columns.append(col)\n",
    "\n",
    "df.drop(new_col, inplace=True, axis=1)\n",
    "df.head()\n",
    "df.shape"
   ]
  },
  {
   "cell_type": "code",
   "execution_count": null,
   "id": "141fa6ef",
   "metadata": {},
   "outputs": [],
   "source": [
    "# setting index to date\n",
    "df.set_index('Date',inplace=True)"
   ]
  },
  {
   "cell_type": "code",
   "execution_count": null,
   "id": "049efcbb",
   "metadata": {},
   "outputs": [],
   "source": [
    "# creating data by hotspots\n",
    "Boston_Manor_Park=[]\n",
    "Cranford=[]\n",
    "Chiswick=[]\n",
    "Brentford=[]\n",
    "Heston=[]\n",
    "Hatton_Cross=[]\n",
    "Gunnersbury=[]\n",
    "Feltham=[]\n",
    "Location=[]\n",
    "\n",
    "for col in df.columns:\n",
    "    \n",
    "    if(col.startswith('hcr')):\n",
    "        Cranford.append(col)\n",
    "    elif(col.startswith('hch')):\n",
    "        Chiswick.append(col) \n",
    "    elif(col.startswith('hbr')):\n",
    "        Brentford.append(col) \n",
    "    elif(col.startswith('hhe')):\n",
    "        Heston.append(col)\n",
    "    elif(col.startswith('hha')):\n",
    "        Hatton_Cross.append(col)\n",
    "    elif(col.startswith('hgu')):\n",
    "        Gunnersbury.append(col) \n",
    "    elif(col.startswith('hfe')):\n",
    "        Feltham.append(col)    \n",
    "    else:\n",
    "        Boston_Manor_Park.append(col)"
   ]
  },
  {
   "cell_type": "markdown",
   "id": "71689984-4b68-463d-8f79-69d4b9715d9c",
   "metadata": {},
   "source": [
    "### Dataframe for each hotspot"
   ]
  },
  {
   "cell_type": "code",
   "execution_count": null,
   "id": "f4128722",
   "metadata": {},
   "outputs": [],
   "source": [
    "Cranford = df[Cranford]\n",
    "Cranford.rename(columns={'hcr_pm10':'pm10',\n",
    "                         'hcr_no':'no',\n",
    "                         'hcr_no2':'no2',\n",
    "                         'hcr_noxasno2':'noxasno2',\n",
    "                         'hcr_nv10':'nv10',\n",
    "                         'hcr_o3':'o3',\n",
    "                         'hcr_so2':'so2',\n",
    "                         'hcr_v10':'v10'},inplace=True )\n",
    "Cranford['hotspot'] = 'cranford'\n",
    "Cranford['season'] = df['season']\n",
    "Cranford.head()\n",
    "Cranford.shape"
   ]
  },
  {
   "cell_type": "code",
   "execution_count": null,
   "id": "ec51518b",
   "metadata": {},
   "outputs": [],
   "source": [
    "Chiswick = df[Chiswick]\n",
    "Chiswick.rename(columns={'hch_pm10':'pm10',\n",
    "                         'hch_no':'no',\n",
    "                         'hch_no2':'no2',\n",
    "                         'hch_noxasno2':'noxasno2',\n",
    "                         'hch_nv10':'nv10',\n",
    "                         'hch_pm25':'pm2.5',\n",
    "                         'hch_v10':'v10'}, inplace=True)\n",
    "Chiswick['hotspot'] = 'chiswick'\n",
    "Chiswick['season'] = df['season']\n",
    "Chiswick.head()\n",
    "Chiswick.shape"
   ]
  },
  {
   "cell_type": "code",
   "execution_count": null,
   "id": "89e5b0ca",
   "metadata": {},
   "outputs": [],
   "source": [
    "Brentford = df[Brentford]\n",
    "Brentford.rename(columns={'hbr_pm10':'pm10',\n",
    "                         'hbr_no':'no',\n",
    "                         'hbr_no2':'no2',\n",
    "                         'hbr_noxasno2':'noxasno2',\n",
    "                         'hbr_nv10':'nv10',\n",
    "                         'hbr_pm25':'pm2.5',\n",
    "                         'hbr_v10':'v10'}, inplace=True)\n",
    "Brentford['hotspot'] = 'brentford'\n",
    "Brentford['season'] = df['season']\n",
    "Brentford.head()\n",
    "Brentford.shape"
   ]
  },
  {
   "cell_type": "code",
   "execution_count": null,
   "id": "ca123d37",
   "metadata": {},
   "outputs": [],
   "source": [
    "Heston = df[Heston]\n",
    "Heston.rename(columns={'hhe_pm10':'pm10',\n",
    "                         'hhe_no':'no',\n",
    "                         'hhe_no2':'no2',\n",
    "                         'hhe_noxasno2':'noxasno2',}, inplace=True)\n",
    "Heston['hotspot'] = 'heston'\n",
    "Heston['season'] = df['season']\n",
    "Heston.head()\n",
    "Heston.shape"
   ]
  },
  {
   "cell_type": "code",
   "execution_count": null,
   "id": "089fa16a",
   "metadata": {},
   "outputs": [],
   "source": [
    "Hatton_Cross = df[Hatton_Cross]\n",
    "Hatton_Cross.rename(columns={'hha_pm10':'pm10',\n",
    "                         'hha_no':'no',\n",
    "                         'hha_no2':'no2',\n",
    "                         'hha_noxasno2':'noxasno2',}, inplace=True)\n",
    "Hatton_Cross['hotspot'] = 'hatton_cross'\n",
    "Hatton_Cross['season'] = df['season']\n",
    "Hatton_Cross.head()\n",
    "Hatton_Cross.shape"
   ]
  },
  {
   "cell_type": "code",
   "execution_count": null,
   "id": "abd5858f",
   "metadata": {},
   "outputs": [],
   "source": [
    "Gunnersbury = df[Gunnersbury]\n",
    "Gunnersbury.rename(columns={'hgu_pm10':'pm10',\n",
    "                         'hgu_no':'no',\n",
    "                         'hgu_no2':'no2',\n",
    "                         'hgu_noxasno2':'noxasno2',}, inplace=True)\n",
    "Gunnersbury['hotspot'] = 'gunnersbury'\n",
    "Gunnersbury['season'] = df['season']\n",
    "Gunnersbury.head()\n",
    "Gunnersbury.shape"
   ]
  },
  {
   "cell_type": "code",
   "execution_count": null,
   "id": "f831e0f2",
   "metadata": {},
   "outputs": [],
   "source": [
    "Feltham = df[Feltham]\n",
    "Feltham.rename(columns={'hfe_pm10':'pm10',\n",
    "                         'hfe_no':'no',\n",
    "                         'hfe_no2':'no2',\n",
    "                         'hfe_noxasno2':'noxasno2',}, inplace=True)\n",
    "Feltham['hotspot'] = 'feltham'\n",
    "Feltham['season'] = df['season']\n",
    "Feltham.head()\n",
    "Feltham.shape"
   ]
  },
  {
   "cell_type": "code",
   "execution_count": null,
   "id": "46df7f10",
   "metadata": {},
   "outputs": [],
   "source": [
    "Boston_Manor_Park = df[Boston_Manor_Park]\n",
    "Boston_Manor_Park.rename(columns={'hbo_pm10':'pm10',\n",
    "                         'hbo_no':'no',\n",
    "                         'hbo_no2':'no2',\n",
    "                         'hbo_noxasno2':'noxasno2',}, inplace=True)\n",
    "Boston_Manor_Park['hotspot'] = 'boston_manor_park'\n",
    "Boston_Manor_Park['season'] = df['season']\n",
    "Boston_Manor_Park.tail()\n",
    "Boston_Manor_Park.shape"
   ]
  },
  {
   "cell_type": "markdown",
   "id": "428f4277",
   "metadata": {},
   "source": [
    "#### combining dataframe"
   ]
  },
  {
   "cell_type": "code",
   "execution_count": null,
   "id": "0894a331",
   "metadata": {},
   "outputs": [],
   "source": [
    "# merging all the dataframes from each hotspot to get a combined hounslow data\n",
    "df = pd.concat([Cranford,Chiswick,Brentford,Heston,Hatton_Cross,Gunnersbury,Feltham,Boston_Manor_Park], axis=0)\n",
    "df.drop(df[['nv10','v10']],axis=1, inplace=True)\n",
    "df = df.reindex(columns=['pm10','pm2.5','no','no2','noxasno2','o3','so2','hotspot','season'])\n",
    "\n",
    "# data inspection\n",
    "df.shape\n",
    "df.head()\n",
    "df.describe()\n"
   ]
  },
  {
   "cell_type": "markdown",
   "id": "74edd02e",
   "metadata": {},
   "source": [
    "### Visualization"
   ]
  },
  {
   "cell_type": "code",
   "execution_count": null,
   "id": "447a89fb",
   "metadata": {},
   "outputs": [],
   "source": [
    "def Pollutant_distribution(df,date=None):\n",
    "    if date is None:\n",
    "        image=df.plot()\n",
    "    else:\n",
    "        image=df.loc[date].plot()\n",
    "    return(image)"
   ]
  },
  {
   "cell_type": "code",
   "execution_count": null,
   "id": "1832b5e0",
   "metadata": {},
   "outputs": [],
   "source": [
    "# boxplot showing pollutants statistical distribution\n",
    "# presence of outliers in pollutants value\n",
    "boxplot = df.boxplot(column=(['pm10','pm2.5','no', 'no2', 'noxasno2', 'o3', 'so2']), figsize=(10,6),fontsize=15)"
   ]
  },
  {
   "cell_type": "code",
   "execution_count": null,
   "id": "7f319b54",
   "metadata": {},
   "outputs": [],
   "source": [
    "Pollutant_distribution(df)"
   ]
  },
  {
   "cell_type": "code",
   "execution_count": null,
   "id": "8b478ee5",
   "metadata": {},
   "outputs": [],
   "source": [
    "Pollutant_distribution(df['so2']['2012':'2021'])"
   ]
  },
  {
   "cell_type": "code",
   "execution_count": null,
   "id": "ac65c482",
   "metadata": {
    "scrolled": true
   },
   "outputs": [],
   "source": [
    "Pollutant_distribution(df['pm2.5']['2018'])"
   ]
  },
  {
   "cell_type": "code",
   "execution_count": null,
   "id": "2c68c02b",
   "metadata": {},
   "outputs": [],
   "source": [
    "Pollutant_distribution(df['o3']['2019'])"
   ]
  },
  {
   "cell_type": "code",
   "execution_count": null,
   "id": "cdf9b458",
   "metadata": {},
   "outputs": [],
   "source": [
    "Pollutant_distribution(df, '2018')"
   ]
  },
  {
   "cell_type": "code",
   "execution_count": null,
   "id": "fa1176ca",
   "metadata": {
    "scrolled": true
   },
   "outputs": [],
   "source": [
    "Pollutant_distribution(df, '2021-07')"
   ]
  },
  {
   "cell_type": "code",
   "execution_count": null,
   "id": "7396bcf2",
   "metadata": {},
   "outputs": [],
   "source": [
    "df[['no', 'noxasno2', 'no2','pm10','pm2.5','so2','o3']].plot(subplots=True,figsize=(10,6), linewidth=2, fontsize=10, xlabel='hours')"
   ]
  },
  {
   "cell_type": "code",
   "execution_count": null,
   "id": "cca37f08",
   "metadata": {},
   "outputs": [],
   "source": [
    "df[['no', 'noxasno2', 'no2','pm10','pm2.5','so2','o3',]].plot()"
   ]
  },
  {
   "cell_type": "markdown",
   "id": "ebf689e2",
   "metadata": {},
   "source": [
    "#### Random seasonal plots"
   ]
  },
  {
   "cell_type": "code",
   "execution_count": null,
   "id": "7c20ecde",
   "metadata": {},
   "outputs": [],
   "source": [
    "#Spring= March - May\n",
    "df[['no', 'noxasno2', 'no2']]['2018-03':'2018-05'].plot(subplots=True,figsize=(10,6), linewidth=2, fontsize=10)"
   ]
  },
  {
   "cell_type": "code",
   "execution_count": null,
   "id": "aebfe6d2",
   "metadata": {},
   "outputs": [],
   "source": [
    "# Summer= June - August\n",
    "df[['no', 'noxasno2', 'no2']]['2021-06':'2021-08'].plot(subplots=True,figsize=(10,6), linewidth=2, fontsize=10)"
   ]
  },
  {
   "cell_type": "code",
   "execution_count": null,
   "id": "b700e7ab",
   "metadata": {},
   "outputs": [],
   "source": [
    "#Autumn= sept - Nov\n",
    "df[['no', 'noxasno2', 'no2']]['2021-09':'2021-11'].plot(subplots=True,figsize=(10,6), linewidth=2, fontsize=10)"
   ]
  },
  {
   "cell_type": "code",
   "execution_count": null,
   "id": "fb66f1e5",
   "metadata": {
    "scrolled": true
   },
   "outputs": [],
   "source": [
    "#winter = dec - feb\n",
    "df[['no', 'noxasno2', 'no2']]['2021-12':'2022-02'].plot(subplots=True,figsize=(10,6), linewidth=2, fontsize=10)"
   ]
  },
  {
   "cell_type": "code",
   "execution_count": null,
   "id": "3cfc1ccf",
   "metadata": {},
   "outputs": [],
   "source": [
    "df[['no', 'noxasno2', 'no2','pm10','pm2.5','so2','o3']].plot(subplots=True,figsize=(10,6), linewidth=2, fontsize=10, xlabel='hours')"
   ]
  },
  {
   "cell_type": "code",
   "execution_count": null,
   "id": "2abb2bb4",
   "metadata": {},
   "outputs": [],
   "source": [
    "\n",
    "df[['no', 'noxasno2', 'no2']].plot(subplots=True,figsize=(10,6), linewidth=2, fontsize=10)"
   ]
  },
  {
   "cell_type": "code",
   "execution_count": null,
   "id": "72b26c8f",
   "metadata": {
    "scrolled": true
   },
   "outputs": [],
   "source": [
    "#Spring= March - May\n",
    "df['2017-03':'2017-05'].plot(subplots=True,figsize=(10,6), linewidth=2, fontsize=10)"
   ]
  },
  {
   "cell_type": "code",
   "execution_count": null,
   "id": "0770cdc4",
   "metadata": {},
   "outputs": [],
   "source": [
    "# Summer= June - August\n",
    "df['2017-06':'2017-08'].plot(subplots=True,figsize=(10,6), linewidth=2, fontsize=10)"
   ]
  },
  {
   "cell_type": "code",
   "execution_count": null,
   "id": "ae3c18e1",
   "metadata": {
    "scrolled": true
   },
   "outputs": [],
   "source": [
    "#Autumn= sept - Nov\n",
    "df['2017-09':'2017-11'].plot(subplots=True,figsize=(10,6), linewidth=2, fontsize=10)"
   ]
  },
  {
   "cell_type": "code",
   "execution_count": null,
   "id": "1a465952",
   "metadata": {},
   "outputs": [],
   "source": [
    "#winter= dec - Feb\n",
    "df['2017-09':'2017-10'].plot(subplots=True,figsize=(10,6), linewidth=2, fontsize=10)"
   ]
  },
  {
   "cell_type": "code",
   "execution_count": null,
   "id": "0f2d39ab",
   "metadata": {},
   "outputs": [],
   "source": [
    "# winter 2020 - 2021\n",
    "df['2020-12':'2021-02'].plot(subplots=True,figsize=(10,6), linewidth=2, fontsize=10)"
   ]
  },
  {
   "cell_type": "markdown",
   "id": "3721c30b",
   "metadata": {},
   "source": [
    "#### Missing value"
   ]
  },
  {
   "cell_type": "code",
   "execution_count": null,
   "id": "3b188c82",
   "metadata": {},
   "outputs": [],
   "source": [
    "# missing value\n",
    "def missing_value(df):\n",
    "    percent_missing = df.isnull().sum() * 100 / len(df)\n",
    "    missing_value = pd.DataFrame({'column_name': df.columns,\n",
    "                                 'percent_missing': percent_missing}).round(1)\n",
    "    return missing_value\n"
   ]
  },
  {
   "cell_type": "code",
   "execution_count": null,
   "id": "0e5a25fc",
   "metadata": {},
   "outputs": [],
   "source": [
    "# % distribution of pollutants\n",
    "missing_value(df)"
   ]
  },
  {
   "cell_type": "code",
   "execution_count": null,
   "id": "b303b22f",
   "metadata": {
    "scrolled": true
   },
   "outputs": [],
   "source": [
    "# Graphical representation of missing value\n",
    "missing_value(df).plot(xlabel='Pollutants',ylabel='percentage distribution')"
   ]
  },
  {
   "cell_type": "markdown",
   "id": "482472f1",
   "metadata": {},
   "source": [
    "#### Pollutants mean estimation"
   ]
  },
  {
   "cell_type": "code",
   "execution_count": null,
   "id": "5b7c08d4",
   "metadata": {},
   "outputs": [],
   "source": [
    "# Average mean distribution of pollutants\n",
    "def pollutant_mean(df, date=None):\n",
    "    if date is None:\n",
    "        Average=((df.mean()).sum()/len(df.mean())).round(0)\n",
    "    else:    \n",
    "        Average=((df.loc[date].mean()).sum()/len(df.loc[date].mean())).round(0)\n",
    "    return Average"
   ]
  },
  {
   "cell_type": "code",
   "execution_count": null,
   "id": "b2e084aa",
   "metadata": {},
   "outputs": [],
   "source": [
    "df.loc['2017-11-15 10:00:00':'2018-11-15 22:00:00'].mean()"
   ]
  },
  {
   "cell_type": "code",
   "execution_count": null,
   "id": "ac559827",
   "metadata": {},
   "outputs": [],
   "source": [
    "df.loc['2021-01-15 00:00:00':'2021-01-15 23:00:00'].mean()"
   ]
  },
  {
   "cell_type": "code",
   "execution_count": null,
   "id": "38233e86",
   "metadata": {},
   "outputs": [],
   "source": [
    "df['pm10'].loc['2020-11':'2020-12'].mean()"
   ]
  },
  {
   "cell_type": "code",
   "execution_count": null,
   "id": "10a18671",
   "metadata": {},
   "outputs": [],
   "source": [
    "df['pm10'].loc['2020-11':'2021-06'].mean()"
   ]
  },
  {
   "cell_type": "code",
   "execution_count": null,
   "id": "52478e9a",
   "metadata": {},
   "outputs": [],
   "source": [
    "df['2012-11':'2012-12']['pm10'].mean()"
   ]
  },
  {
   "cell_type": "code",
   "execution_count": null,
   "id": "0ce491d7",
   "metadata": {},
   "outputs": [],
   "source": [
    "# daily mean for pm for 2010 Jan\n",
    "df['2020-01-01']['pm10'].max()"
   ]
  },
  {
   "cell_type": "code",
   "execution_count": null,
   "id": "0287a994",
   "metadata": {},
   "outputs": [],
   "source": [
    "# daily mean for pm for 2010 Jan\n",
    "df['2020-01-01']['pm10'].min()"
   ]
  },
  {
   "cell_type": "code",
   "execution_count": null,
   "id": "f5affc8c",
   "metadata": {},
   "outputs": [],
   "source": [
    "# daily mean for pm for 2010 Jan\n",
    "df['2020-01-01']['pm10'].head(24)"
   ]
  },
  {
   "cell_type": "code",
   "execution_count": null,
   "id": "d4b818ec",
   "metadata": {},
   "outputs": [],
   "source": [
    "# plot of pollutants for winter period\n",
    "df['no'].loc['2012-12':'2013-02'].plot()\n",
    "df['pm10'].loc['2012-12':'2013-02'].plot()\n",
    "df['noxasno2'].loc['2012-12':'2013-02'].plot()\n",
    "df['no2'].loc['2012-12':'2013-02'].plot(figsize=(15,10));"
   ]
  },
  {
   "cell_type": "code",
   "execution_count": null,
   "id": "42306e80",
   "metadata": {},
   "outputs": [],
   "source": [
    "# comparing timeline plots for pm10\n",
    "df['pm10'].loc['2012-12':'2013-02'].plot()\n",
    "df['pm10'].loc['2013-12':'2014-02'].plot();\n"
   ]
  },
  {
   "cell_type": "code",
   "execution_count": null,
   "id": "b3a1c718",
   "metadata": {},
   "outputs": [],
   "source": [
    "# 2015 winter plot for pm10\n",
    "aq_2015 = df.loc['2015-12':'2016-02']\n",
    "pm10_2015 = aq_2015['pm10']\n",
    "pm10_2015.plot(grid=True, figsize=(17,8))"
   ]
  },
  {
   "cell_type": "code",
   "execution_count": null,
   "id": "9f03e03d",
   "metadata": {},
   "outputs": [],
   "source": [
    "# drilling down on date\n",
    "df['pm10'].loc['2012-11':'2021-06'].head()"
   ]
  },
  {
   "cell_type": "markdown",
   "id": "6357a81c",
   "metadata": {},
   "source": [
    "##### Correlation"
   ]
  },
  {
   "cell_type": "code",
   "execution_count": null,
   "id": "e9832e14",
   "metadata": {
    "scrolled": true
   },
   "outputs": [],
   "source": [
    "# correlation table\n",
    "df.corr(method='pearson')"
   ]
  },
  {
   "cell_type": "code",
   "execution_count": null,
   "id": "8ddc95e5",
   "metadata": {
    "scrolled": true
   },
   "outputs": [],
   "source": [
    "# correlation plot\n",
    "df.corr().plot()"
   ]
  },
  {
   "cell_type": "markdown",
   "id": "67022324",
   "metadata": {},
   "source": [
    "Strong correlation exists betweeen the oxides of Nitrogen (no,noxasno2)"
   ]
  },
  {
   "cell_type": "code",
   "execution_count": null,
   "id": "b4faccbd",
   "metadata": {
    "scrolled": true
   },
   "outputs": [],
   "source": [
    "# strong trends exist among the oxides of Nitrogen\n",
    "df[['no','noxasno2','no2']].plot(subplots=True, linewidth=3)"
   ]
  },
  {
   "cell_type": "code",
   "execution_count": null,
   "id": "a0be8ab0",
   "metadata": {},
   "outputs": [],
   "source": [
    "# combined distribution of pollutants for 10yrs\n",
    "df[['no', 'noxasno2', 'no2','pm10','pm2.5','so2','o3']].plot(subplots=True, linewidth=3)"
   ]
  },
  {
   "cell_type": "markdown",
   "id": "e2d5f2db",
   "metadata": {},
   "source": [
    "##### Handling mising value"
   ]
  },
  {
   "cell_type": "code",
   "execution_count": null,
   "id": "f184a3be",
   "metadata": {},
   "outputs": [],
   "source": [
    "# correlation among multiple time lag\n",
    "# looking at how pollutant will changes over time lag (hourly interval (10:00:00 and 11:00:00)). \n",
    "#This will help to establish if we can impute missing data with previous hourly, monthly or yearly data\n",
    "\n",
    "# hourly time lag(if readings for t-1 show linearity with t, then we can use(mean imputation of t-1) readings for t\n",
    "\n",
    "# time lag for pm10\n",
    "pd.plotting.lag_plot(df['pm10'], lag=1) "
   ]
  },
  {
   "cell_type": "code",
   "execution_count": null,
   "id": "a5fc5137",
   "metadata": {},
   "outputs": [],
   "source": [
    "pd.plotting.lag_plot(df['pm10'], lag=2)"
   ]
  },
  {
   "cell_type": "code",
   "execution_count": null,
   "id": "02f249ac",
   "metadata": {},
   "outputs": [],
   "source": [
    "pd.plotting.lag_plot(df['pm10'], lag=24)"
   ]
  },
  {
   "cell_type": "code",
   "execution_count": null,
   "id": "666cde52",
   "metadata": {},
   "outputs": [],
   "source": [
    "pd.plotting.lag_plot(df['pm10'], lag=4)"
   ]
  },
  {
   "cell_type": "markdown",
   "id": "9b2bc7f7",
   "metadata": {},
   "source": [
    "#### make copy of data to inspect missing value"
   ]
  },
  {
   "cell_type": "code",
   "execution_count": null,
   "id": "380345a0",
   "metadata": {},
   "outputs": [],
   "source": [
    "df_season = df.copy()\n",
    "df_season.shape\n",
    "df_season.head()\n",
    "df_season.columns"
   ]
  },
  {
   "cell_type": "code",
   "execution_count": null,
   "id": "c79160b1",
   "metadata": {},
   "outputs": [],
   "source": [
    "df_season.reset_index(inplace=True)\n",
    "df_season.head()"
   ]
  },
  {
   "cell_type": "code",
   "execution_count": null,
   "id": "b279705b",
   "metadata": {},
   "outputs": [],
   "source": [
    "df_season['DayOfWeek'] = df_season['Date'].dt.day_name()\n",
    "df_season.head()"
   ]
  },
  {
   "cell_type": "code",
   "execution_count": null,
   "id": "c6df9e4a",
   "metadata": {
    "scrolled": true
   },
   "outputs": [],
   "source": [
    "df_season['MonthOfYear'] = df_season['Date'].dt.month_name()\n",
    "df_season.tail()"
   ]
  },
  {
   "cell_type": "code",
   "execution_count": null,
   "id": "dacf8607",
   "metadata": {},
   "outputs": [],
   "source": [
    "# to enhance visualization and observe the pattern in data, we adopt daily mean aggregate of data\n",
    "# copy data and getting the daily mean aggregate\n",
    "new_df = df.resample('D').mean()"
   ]
  },
  {
   "cell_type": "code",
   "execution_count": null,
   "id": "e33fd9de",
   "metadata": {},
   "outputs": [],
   "source": [
    "# examine the newly copied data\n",
    "new_df.head()\n",
    "new_df.shape"
   ]
  },
  {
   "cell_type": "code",
   "execution_count": null,
   "id": "bf5ee686",
   "metadata": {},
   "outputs": [],
   "source": [
    "# looking at pm10 pollutant\n",
    "pm10_data_Daily = new_df.loc[:,'pm10']"
   ]
  },
  {
   "cell_type": "code",
   "execution_count": null,
   "id": "03789fbf",
   "metadata": {},
   "outputs": [],
   "source": [
    "pm10_data_Daily.head()"
   ]
  },
  {
   "cell_type": "code",
   "execution_count": null,
   "id": "ef92e2bb",
   "metadata": {},
   "outputs": [],
   "source": [
    "# visualize pm10 daily data\n",
    "pm10_data_Daily.plot()\n",
    "\n"
   ]
  },
  {
   "cell_type": "code",
   "execution_count": null,
   "id": "c1cb93b8",
   "metadata": {},
   "outputs": [],
   "source": [
    "# graph above is not easy to view the trend or pattern, hence we can take a rolling window data to smoothing the curve\n",
    "# by rolling window, we decide every 20 data and take the mean for easy plot view\n",
    "pm10_data_Daily_mean = pm10_data_Daily.rolling(window=20).mean()"
   ]
  },
  {
   "cell_type": "code",
   "execution_count": null,
   "id": "564fed59",
   "metadata": {},
   "outputs": [],
   "source": [
    "# smoothing curve gives more clearer view of the plot\n",
    "pm10_data_Daily_mean.plot(figsize=(15,6))"
   ]
  },
  {
   "cell_type": "code",
   "execution_count": null,
   "id": "c8efcf4b",
   "metadata": {},
   "outputs": [],
   "source": [
    "# looking at no pollutant\n",
    "no_data_Daily = new_df.loc[:,'no']"
   ]
  },
  {
   "cell_type": "code",
   "execution_count": null,
   "id": "bfca9be8",
   "metadata": {},
   "outputs": [],
   "source": [
    "no_data_Daily.plot()"
   ]
  },
  {
   "cell_type": "code",
   "execution_count": null,
   "id": "d5b9c02f",
   "metadata": {},
   "outputs": [],
   "source": [
    "no_data_Daily_mean = no_data_Daily.rolling(window=20).mean()"
   ]
  },
  {
   "cell_type": "code",
   "execution_count": null,
   "id": "c6a83256",
   "metadata": {},
   "outputs": [],
   "source": [
    "no_data_Daily_mean.plot(figsize=(15,6))"
   ]
  },
  {
   "cell_type": "markdown",
   "id": "88b95f8f",
   "metadata": {},
   "source": [
    "##### Preparing seasonal data"
   ]
  },
  {
   "cell_type": "code",
   "execution_count": null,
   "id": "499c8021",
   "metadata": {},
   "outputs": [],
   "source": [
    "pm10_winter = df.loc[df.season=='winter']\n",
    "pm10_Winter =pm10_winter[['pm10','season']]\n",
    "pm10_summer = df.loc[df.season=='summer']\n",
    "pm10_Summer =pm10_summer[['pm10','season']]\n",
    "pm10_autumn = df.loc[df.season=='autumn']\n",
    "pm10_Autumn =pm10_autumn[['pm10','season']]\n",
    "pm10_spring = df.loc[df.season=='spring']\n",
    "pm10_Spring =pm10_spring[['pm10','season']]\n",
    "pm25_autumn = df.loc[df.season=='autumn']\n",
    "pm25_Autumn =pm25_autumn[['pm2.5','season']]\n",
    "pm25_summer = df.loc[df.season=='summer']\n",
    "pm25_Summer =pm25_summer[['pm2.5','season']]\n",
    "pm25_spring = df.loc[df.season=='spring']\n",
    "pm25_Spring =pm25_spring[['pm2.5','season']]\n",
    "pm25_winter = df.loc[df.season=='winter']\n",
    "pm25_Winter =pm25_winter[['pm2.5','season']]\n",
    "pm10_Autumn.tail()\n",
    "pm10_Autumn.shape\n"
   ]
  },
  {
   "cell_type": "code",
   "execution_count": null,
   "id": "6f7ac5ae",
   "metadata": {},
   "outputs": [],
   "source": [
    "no_summer = df.loc[df.season=='summer']\n",
    "no_Summer =no_summer[['no','season']]\n",
    "no_autumn = df.loc[df.season=='autumn']\n",
    "no_Autumn =no_autumn[['no','season']]\n",
    "no_spring = df.loc[df.season=='spring']\n",
    "no_Spring =no_spring[['no','season']]\n",
    "no_winter = df.loc[df.season=='winter']\n",
    "no_Winter =no_winter[['no','season']]\n"
   ]
  },
  {
   "cell_type": "code",
   "execution_count": null,
   "id": "c751948e",
   "metadata": {},
   "outputs": [],
   "source": [
    "no2_summer = df.loc[df.season=='summer']\n",
    "no2_Summer =no2_summer[['no2','season']]\n",
    "no2_spring = df.loc[df.season=='spring']\n",
    "no2_Spring =no2_spring[['no2','season']]\n",
    "no2_autumn = df.loc[df.season=='autumn']\n",
    "no2_Autumn =no2_autumn[['no2','season']]\n",
    "no2_winter = df.loc[df.season=='winter']\n",
    "no2_Winter =no2_winter[['no2','season']]\n",
    "no2_Summer.head()"
   ]
  },
  {
   "cell_type": "code",
   "execution_count": null,
   "id": "df2b14db",
   "metadata": {},
   "outputs": [],
   "source": [
    "noxasno2_summer = df.loc[df.season=='summer']\n",
    "noxasno2_Summer =noxasno2_summer[['noxasno2','season']]\n",
    "noxasno2_spring = df.loc[df.season=='spring']\n",
    "noxasno2_Spring =noxasno2_spring[['noxasno2','season']]\n",
    "noxasno2_autumn = df.loc[df.season=='autumn']\n",
    "noxasno2_Autumn =noxasno2_autumn[['noxasno2','season']]\n",
    "noxasno2_winter = df.loc[df.season=='winter']\n",
    "noxasno2_Winter =noxasno2_winter[['noxasno2','season']]\n",
    "\n"
   ]
  },
  {
   "cell_type": "code",
   "execution_count": null,
   "id": "9fcc4f76",
   "metadata": {},
   "outputs": [],
   "source": [
    "so2_winter = df.loc[df.season=='winter']\n",
    "so2_Winter =so2_winter[['so2','season']]\n",
    "so2_autumn = df.loc[df.season=='autumn']\n",
    "so2_Autumn =so2_autumn[['so2','season']]\n",
    "so2_summer = df.loc[df.season=='summer']\n",
    "so2_Summer =so2_summer[['so2','season']]\n",
    "so2_spring = df.loc[df.season=='spring']\n",
    "so2_Spring =so2_spring[['so2','season']]\n"
   ]
  },
  {
   "cell_type": "code",
   "execution_count": null,
   "id": "0020ab83",
   "metadata": {},
   "outputs": [],
   "source": [
    "o3_winter = df.loc[df.season=='winter']\n",
    "o3_Winter =o3_winter[['o3','season']]\n",
    "o3_autumn = df.loc[df.season=='autumn']\n",
    "o3_Autumn =o3_autumn[['o3','season']]\n",
    "o3_summer = df.loc[df.season=='summer']\n",
    "o3_Summer =o3_summer[['o3','season']]\n",
    "o3_spring = df.loc[df.season=='spring']\n",
    "o3_Spring =o3_spring[['o3','season']]\n"
   ]
  },
  {
   "cell_type": "code",
   "execution_count": null,
   "id": "62eb45f2",
   "metadata": {},
   "outputs": [],
   "source": [
    "pm10_Winter['2018-02'].plot(grid=True, figsize=(17,8))\n",
    "no_Winter['2018-02'].plot(grid=True, figsize=(17,8));"
   ]
  },
  {
   "cell_type": "code",
   "execution_count": null,
   "id": "87baaeb6",
   "metadata": {},
   "outputs": [],
   "source": [
    "plt.figure(figsize=(16,8))\n",
    "pm10_Winter['pm10'].plot(label='pm10', color='green')\n",
    "pm25_Winter['pm2.5'].plot(label='pm2.5', color='red')\n",
    "no_Winter['no'].plot(label='no', color='yellow')\n",
    "plt.legend()\n"
   ]
  },
  {
   "cell_type": "code",
   "execution_count": null,
   "id": "15998c31",
   "metadata": {},
   "outputs": [],
   "source": [
    "plt.figure(figsize=(16,8))\n",
    "pm10_Summer['pm10'].plot(label='pm10', color='green')\n",
    "pm25_Summer['pm2.5'].plot(label='pm2.5', color='red')\n",
    "no_Summer['no'].plot(label='no', color='yellow')\n",
    "plt.legend()"
   ]
  },
  {
   "cell_type": "code",
   "execution_count": null,
   "id": "6f41e4be",
   "metadata": {},
   "outputs": [],
   "source": [
    "# pattern reflects but the data is so much that hard to see the trend, unlike monthy plot\n",
    "plt.figure(figsize=(16,8))\n",
    "no2_Summer['no2'].plot(label='no2', color='green')\n",
    "#_Summer['pm2.5'].plot(label='pm2.5', color='red')\n",
    "no_Summer['no'].plot(label='no', color='yellow')\n",
    "plt.legend()"
   ]
  },
  {
   "cell_type": "code",
   "execution_count": null,
   "id": "3f15de64",
   "metadata": {},
   "outputs": [],
   "source": [
    "# pattern reflects but the data is so much that hard to see the trend, unlike monthy plot\n",
    "plt.figure(figsize=(16,8))\n",
    "no2_Summer['no2']['2015'].plot(label='no2_Summer', color='green')\n",
    "no_Summer['no']['2015'].plot(label='no_Summer', color='yellow')\n",
    "noxasno2_Summer['noxasno2']['2015'].plot(label='noxasno2_Summer', color='orange')\n",
    "plt.legend()"
   ]
  },
  {
   "cell_type": "code",
   "execution_count": null,
   "id": "8f5a871b",
   "metadata": {},
   "outputs": [],
   "source": [
    "# this will not be possible because of date variation in season\n",
    "plt.figure(figsize=(16,8))\n",
    "pm10_Winter['pm10'].plot(label='winter', color='green')\n",
    "pm10_Summer['pm10'].plot(label='summer', color='red')\n",
    "pm10_Autumn['pm10'].plot(label='autumn', color='yellow')\n",
    "pm10_Spring['pm10'].plot(label='spring', color='orange')\n",
    "\n",
    "plt.legend()"
   ]
  },
  {
   "cell_type": "code",
   "execution_count": null,
   "id": "aa4c6132",
   "metadata": {},
   "outputs": [],
   "source": [
    "plt.figure(figsize=(16,8))\n",
    "no2_Winter['no2'].plot(label='no2', color='red')\n",
    "no_Winter['no'].plot(label='no', color='yellow')\n",
    "plt.legend()"
   ]
  },
  {
   "cell_type": "code",
   "execution_count": null,
   "id": "337d76c0",
   "metadata": {},
   "outputs": [],
   "source": [
    "pm10_Summer.plot(grid=True, figsize=(17,8))"
   ]
  },
  {
   "cell_type": "code",
   "execution_count": null,
   "id": "3861fbc9",
   "metadata": {},
   "outputs": [],
   "source": [
    "pm10_Spring.plot(grid=True, figsize=(17,8))"
   ]
  },
  {
   "cell_type": "code",
   "execution_count": null,
   "id": "1bfed35d",
   "metadata": {},
   "outputs": [],
   "source": [
    "#filtering out data\n",
    "pm25_summer = df.loc[df.season=='summer']\n",
    "pm25_summer[['pm2.5','season']].head() "
   ]
  },
  {
   "cell_type": "code",
   "execution_count": null,
   "id": "defe1f08",
   "metadata": {},
   "outputs": [],
   "source": [
    "# filtering out season data\n",
    "df_summer = df.loc[df.season=='summer']\n",
    "df_winter = df.loc[df.season=='winter']\n",
    "df_autumn = df.loc[df.season=='autumn']\n",
    "df_spring = df.loc[df.season=='spring']\n",
    " "
   ]
  },
  {
   "cell_type": "code",
   "execution_count": null,
   "id": "4f8d707d",
   "metadata": {},
   "outputs": [],
   "source": [
    "df_summer.plot(figsize=(15,6))"
   ]
  },
  {
   "cell_type": "code",
   "execution_count": null,
   "id": "48f64f5f",
   "metadata": {},
   "outputs": [],
   "source": [
    "# smoothing the above plot\n",
    "df_summer_mean = df_summer.rolling(window=50).mean()"
   ]
  },
  {
   "cell_type": "code",
   "execution_count": null,
   "id": "f44bb770",
   "metadata": {},
   "outputs": [],
   "source": [
    "df_summer_mean.plot(figsize=(15,6))"
   ]
  },
  {
   "cell_type": "code",
   "execution_count": null,
   "id": "c2f2b982",
   "metadata": {},
   "outputs": [],
   "source": [
    "# summer plot for pm10 and pm2.5\n",
    "plt.figure(figsize=(16,8))\n",
    "pm25_summer['pm2.5'].plot(figsize=(10,6),label='pm2.5')\n",
    "pm10_summer['pm10'].plot(figsize=(10,6),label='pm10');\n",
    "plt.legend()"
   ]
  },
  {
   "cell_type": "code",
   "execution_count": null,
   "id": "8c13e8c3",
   "metadata": {},
   "outputs": [],
   "source": [
    "pm25_winter['pm2.5'].plot(figsize=(10,6),label='pm2.5')\n",
    "pm10_winter['pm10'].plot(figsize=(10,6), label='pm10');\n",
    "plt.legend()"
   ]
  },
  {
   "cell_type": "code",
   "execution_count": null,
   "id": "5c7eac04",
   "metadata": {},
   "outputs": [],
   "source": [
    "no_summer = df.loc[df.season=='summer']\n",
    "no_winter = df.loc[df.season=='winter']\n",
    "no_autumn = df.loc[df.season=='autumn']\n",
    "no_spring = df.loc[df.season=='spring']"
   ]
  },
  {
   "cell_type": "code",
   "execution_count": null,
   "id": "88afe759",
   "metadata": {},
   "outputs": [],
   "source": [
    "no_summer[['no','hotspot','season']].head()"
   ]
  },
  {
   "cell_type": "code",
   "execution_count": null,
   "id": "29271f46",
   "metadata": {},
   "outputs": [],
   "source": [
    "no_winter[['no','hotspot','season']].tail()"
   ]
  },
  {
   "cell_type": "code",
   "execution_count": null,
   "id": "c9d032b4",
   "metadata": {},
   "outputs": [],
   "source": [
    "no2_summer = df.loc[df.season=='summer']\n",
    "no2_winter = df.loc[df.season=='winter']\n",
    "no2_autumn = df.loc[df.season=='autumn']\n",
    "no2_spring = df.loc[df.season=='spring']"
   ]
  },
  {
   "cell_type": "code",
   "execution_count": null,
   "id": "7b7a1d84",
   "metadata": {},
   "outputs": [],
   "source": [
    "noxasno2_summer = df.loc[df.season=='summer']\n",
    "noxasno2_winter = df.loc[df.season=='winter']\n",
    "noxasno2_autumn = df.loc[df.season=='autumn']\n",
    "noxasno2_spring = df.loc[df.season=='spring']"
   ]
  },
  {
   "cell_type": "code",
   "execution_count": null,
   "id": "b8b3f5e2",
   "metadata": {},
   "outputs": [],
   "source": [
    "so2_summer = df.loc[df.season=='summer']\n",
    "so2_winter = df.loc[df.season=='winter']\n",
    "so2_autumn = df.loc[df.season=='autumn']\n",
    "so2_spring = df.loc[df.season=='spring']"
   ]
  },
  {
   "cell_type": "code",
   "execution_count": null,
   "id": "8d3f5ca9",
   "metadata": {},
   "outputs": [],
   "source": []
  },
  {
   "cell_type": "markdown",
   "id": "a0bdafd7",
   "metadata": {},
   "source": [
    "#### Resampling data by aggregating hourly data to daily data"
   ]
  },
  {
   "cell_type": "code",
   "execution_count": null,
   "id": "4454fc47",
   "metadata": {},
   "outputs": [],
   "source": [
    "\"making copy of existing dataframe\"\n",
    "Daily_data = df.copy()\n",
    "Daily_data.tail()"
   ]
  },
  {
   "cell_type": "code",
   "execution_count": null,
   "id": "fa7cdf78",
   "metadata": {},
   "outputs": [],
   "source": [
    "df_Daily=Daily_data.resample('D').mean()"
   ]
  },
  {
   "cell_type": "code",
   "execution_count": null,
   "id": "345b3e35",
   "metadata": {},
   "outputs": [],
   "source": [
    "df_Daily.head()"
   ]
  },
  {
   "cell_type": "code",
   "execution_count": null,
   "id": "735df5d7",
   "metadata": {},
   "outputs": [],
   "source": [
    "# Python program to convert\n",
    "# date to timestamp\n",
    "\n",
    "\n",
    "import time\n",
    "import datetime\n",
    "\n",
    "\n",
    "string = \"20/01/2020\"\n",
    "\n",
    "\n",
    "element = datetime.datetime.strptime(string,\"%d/%m/%Y\")\n",
    "\n",
    "timestamp = datetime.datetime.timestamp(element)\n",
    "print(timestamp)\n"
   ]
  },
  {
   "cell_type": "code",
   "execution_count": null,
   "id": "2bf29797",
   "metadata": {},
   "outputs": [],
   "source": [
    "import time\n",
    "import datetime\n",
    "# creating function for season\n",
    "def date_to_season(date):\n",
    "    year = str(date.year)\n",
    "    string = year\n",
    "    element = datetime.datetime.strptime(string,\"%Y\")\n",
    "    timestamp = datetime.datetime.timestamp(element)\n",
    "    seasons = {'spring': pd.date_range(start=year+'-03-01', end=year+'-05-31'),\n",
    "               'summer': pd.date_range(start=year+'-06-01', end=year+'-08-31'),\n",
    "               'autumn': pd.date_range(start=year+'-09-01', end=year+'-11-30')}\n",
    "    if date in seasons['spring']:\n",
    "        return 'spring'\n",
    "    if date in seasons['summer']:\n",
    "        return 'summer'\n",
    "    if date in seasons['autumn']:\n",
    "        return 'autumn'\n",
    "    else:\n",
    "        return 'winter'"
   ]
  },
  {
   "cell_type": "code",
   "execution_count": null,
   "id": "e7fa27cc",
   "metadata": {},
   "outputs": [],
   "source": [
    "df_Daily['season'] = df_Daily.index.map(date_to_season)\n",
    "df_Daily.shape"
   ]
  },
  {
   "cell_type": "code",
   "execution_count": null,
   "id": "be86902a",
   "metadata": {},
   "outputs": [],
   "source": [
    "df_Summer = df_Daily[df_Daily['season']=='summer']\n",
    "df_Summer.shape\n",
    "df_Summer.head()"
   ]
  },
  {
   "cell_type": "code",
   "execution_count": null,
   "id": "2705a21c",
   "metadata": {},
   "outputs": [],
   "source": [
    "df_Winter = df_Daily[df_Daily['season']=='winter']\n",
    "df_Winter.shape\n",
    "df_Winter.head()"
   ]
  },
  {
   "cell_type": "code",
   "execution_count": null,
   "id": "f4c9cd34",
   "metadata": {},
   "outputs": [],
   "source": [
    "df_Spring = df_Daily[df_Daily['season']=='spring']\n",
    "df_Spring.shape\n",
    "df_Spring.head()"
   ]
  },
  {
   "cell_type": "code",
   "execution_count": null,
   "id": "a954aa87",
   "metadata": {},
   "outputs": [],
   "source": [
    "df_Autumn = df_Daily[df_Daily['season']=='autumn']\n",
    "df_Autumn.shape\n",
    "df_Autumn.head()"
   ]
  },
  {
   "cell_type": "code",
   "execution_count": null,
   "id": "1d115a57",
   "metadata": {},
   "outputs": [],
   "source": [
    "df_Autumn.plot(figsize=(15,6))"
   ]
  },
  {
   "cell_type": "code",
   "execution_count": null,
   "id": "fbbb1977",
   "metadata": {},
   "outputs": [],
   "source": [
    "df_Summer[['pm10','no','no2','noxasno2']]['2019'].plot(figsize=(15,6))"
   ]
  },
  {
   "cell_type": "code",
   "execution_count": null,
   "id": "53085208",
   "metadata": {},
   "outputs": [],
   "source": [
    "df_Daily[['pm10','pm2.5']]['2020-06':'2020-12'].plot(figsize=(16,8))"
   ]
  },
  {
   "cell_type": "code",
   "execution_count": null,
   "id": "dfedbe6f",
   "metadata": {},
   "outputs": [],
   "source": [
    "df_Daily['pm2.5']['2020'].plot(figsize=(15,6))"
   ]
  },
  {
   "cell_type": "code",
   "execution_count": null,
   "id": "55eb8b15",
   "metadata": {},
   "outputs": [],
   "source": [
    "Summer =df_Daily.loc[df_Daily.season=='summer']\n",
    "Winter =df_Daily.loc[df_Daily.season=='winter']\n",
    "Spring =df_Daily.loc[df_Daily.season=='spring']\n",
    "Autumn = df_Daily.loc[df_Daily.season=='autumn']"
   ]
  },
  {
   "cell_type": "code",
   "execution_count": null,
   "id": "385613be",
   "metadata": {},
   "outputs": [],
   "source": [
    "#df.loc[df.season=='summer']\n",
    "Summer =df_Daily.loc[df_Daily.season=='summer']\n",
    "Winter =df_Daily.loc[df_Daily.season=='winter']\n",
    "Spring =df_Daily.loc[df_Daily.season=='spring']\n",
    "Autumn = df_Daily.loc[df_Daily.season=='autumn']"
   ]
  },
  {
   "cell_type": "code",
   "execution_count": null,
   "id": "21cc5a33",
   "metadata": {},
   "outputs": [],
   "source": [
    "# seasonal data\n",
    "Summer.head()\n",
    "Winter.head()\n",
    "Spring.head()\n",
    "Autumn.tail()"
   ]
  },
  {
   "cell_type": "code",
   "execution_count": null,
   "id": "a565f138",
   "metadata": {},
   "outputs": [],
   "source": [
    "Summer[['pm10','pm2.5','no','no2']]['2020-06':'2020-12'].plot(figsize=(16,8))"
   ]
  },
  {
   "cell_type": "code",
   "execution_count": null,
   "id": "0af8d9c6",
   "metadata": {},
   "outputs": [],
   "source": [
    "Summer[['pm10','pm2.5','no','no2']].plot(figsize=(16,8))"
   ]
  },
  {
   "cell_type": "code",
   "execution_count": null,
   "id": "cfbe7fc7",
   "metadata": {},
   "outputs": [],
   "source": [
    "Winter[['pm10','pm2.5','no','no2']]['2019'].plot(figsize=(16,8))"
   ]
  },
  {
   "cell_type": "code",
   "execution_count": null,
   "id": "746dd359",
   "metadata": {},
   "outputs": [],
   "source": [
    "Summer.plot(grid=True, figsize=(15,6))"
   ]
  },
  {
   "cell_type": "code",
   "execution_count": null,
   "id": "53504629",
   "metadata": {},
   "outputs": [],
   "source": [
    "Winter.plot(grid=True, figsize=(15,6))"
   ]
  },
  {
   "cell_type": "code",
   "execution_count": null,
   "id": "3a3a5245",
   "metadata": {},
   "outputs": [],
   "source": [
    "Spring.plot(grid=True, figsize=(15,6))"
   ]
  },
  {
   "cell_type": "code",
   "execution_count": null,
   "id": "54becf06",
   "metadata": {},
   "outputs": [],
   "source": [
    "Autumn['2018'].plot(grid=True, figsize=(15,6))"
   ]
  },
  {
   "cell_type": "code",
   "execution_count": null,
   "id": "d20c713f",
   "metadata": {},
   "outputs": [],
   "source": [
    "Summer['pm10'].plot()\n",
    "Summer['pm2.5'].plot()\n",
    "Summer['no'].plot(grid=True, figsize=(15,6));"
   ]
  },
  {
   "cell_type": "code",
   "execution_count": null,
   "id": "a2399954",
   "metadata": {},
   "outputs": [],
   "source": [
    "Summer[['pm10','pm2.5','no']].plot(figsize=(16,8))"
   ]
  },
  {
   "cell_type": "code",
   "execution_count": null,
   "id": "4786b1ac",
   "metadata": {},
   "outputs": [],
   "source": [
    "Summer['pm10']['2020'].plot()\n",
    "Summer['pm2.5']['2020'].plot()\n",
    "Summer['no']['2020'].plot(figsize=(16,8));"
   ]
  },
  {
   "cell_type": "code",
   "execution_count": null,
   "id": "2a38fa6b",
   "metadata": {},
   "outputs": [],
   "source": [
    "Summer[['pm10','pm2.5','no']]['2020'].plot(figsize=(16,8))"
   ]
  },
  {
   "cell_type": "code",
   "execution_count": null,
   "id": "fff46ef3",
   "metadata": {},
   "outputs": [],
   "source": [
    "Winter[['pm10','pm2.5','no']].plot(figsize=(16,8))"
   ]
  },
  {
   "cell_type": "code",
   "execution_count": null,
   "id": "b13e50b0",
   "metadata": {},
   "outputs": [],
   "source": [
    "Winter[['pm10','pm2.5','no']]['2019'].plot(figsize=(16,8))"
   ]
  },
  {
   "cell_type": "code",
   "execution_count": null,
   "id": "aca9f816",
   "metadata": {},
   "outputs": [],
   "source": [
    "Spring[['pm10','pm2.5','no']]['2019'].plot(figsize=(16,8))"
   ]
  },
  {
   "cell_type": "code",
   "execution_count": null,
   "id": "968b7d84",
   "metadata": {},
   "outputs": [],
   "source": [
    "# season plot for pm10\n",
    "Summer['pm10'].plot()\n",
    "Winter['pm10'].plot()\n",
    "Spring['pm10'].plot()\n",
    "Autumn['pm10'].plot(figsize=(15,6));\n",
    "\n"
   ]
  },
  {
   "cell_type": "code",
   "execution_count": null,
   "id": "cbc2fefe",
   "metadata": {
    "scrolled": true
   },
   "outputs": [],
   "source": [
    "# year season plot of pm10 \n",
    "Summer['pm10']['2018'].plot(label='summer')\n",
    "Winter['pm10']['2018'].plot(label='winter')\n",
    "Spring['pm10']['2018'].plot(label='spring')\n",
    "Autumn['pm10']['2018'].plot(figsize=(15,6),label='autumn');"
   ]
  },
  {
   "cell_type": "code",
   "execution_count": null,
   "id": "bfdb8e3a",
   "metadata": {},
   "outputs": [],
   "source": [
    "# year season plot of pollutants \n",
    "Summer['pm10'].plot()\n",
    "Summer['pm2.5'].plot()\n",
    "Summer['no'].plot()\n",
    "Summer['noxasno2'].plot()\n",
    "Summer['so2'].plot()\n",
    "Summer['o3'].plot()\n",
    "Summer['no2'].plot(figsize=(15,6));"
   ]
  },
  {
   "cell_type": "code",
   "execution_count": null,
   "id": "5f244c0b",
   "metadata": {},
   "outputs": [],
   "source": [
    "# year season plot of pollutants \n",
    "Summer['pm10']['2018'].plot()\n",
    "Summer['pm2.5']['2018'].plot()\n",
    "Summer['no']['2018'].plot()\n",
    "Summer['noxasno2']['2018'].plot()\n",
    "Summer['so2']['2018'].plot()\n",
    "Summer['o3']['2018'].plot()\n",
    "Summer['no2']['2018'].plot(figsize=(15,6));"
   ]
  },
  {
   "cell_type": "raw",
   "id": "560c701b",
   "metadata": {},
   "source": [
    "# Handling Missing value\n",
    "# ***hotspot*****\n",
    "df_na.dropna(how='any',inplace=True)\n",
    "df_na.shape\n",
    "df_na.head()"
   ]
  },
  {
   "cell_type": "raw",
   "id": "60f7c7f9",
   "metadata": {},
   "source": [
    "df_na.dropna(how='all').shape\n",
    "df_na.head()\n"
   ]
  },
  {
   "cell_type": "code",
   "execution_count": null,
   "id": "e2b8da74",
   "metadata": {},
   "outputs": [],
   "source": [
    "# display all the rows where pm10 is missing...this can be filter for any date\n",
    "#df.query('pm10 != pm10')['2020-01']"
   ]
  },
  {
   "cell_type": "raw",
   "id": "312d0bcf",
   "metadata": {},
   "source": [
    "df.query('pm10 != pm10').shape"
   ]
  },
  {
   "cell_type": "markdown",
   "id": "6623ccb3",
   "metadata": {},
   "source": [
    "Based  on the assumption that identified pattern will continue in the future. Some issues arises due to malfunctioning of the IOT devices,downtime of sensors resulting in lots of missing values. \n",
    "sensors is down and many more factors. It is important to be concerned about the missing value in this subject analysis because the order of event is crucial. Measuring global mean might be misleading information because this analysis exhibit seasonal trends and there exist variation in pollutants readings during certian period. \n",
    "\n",
    "Pm2.5 is a particulate matter that causes lots of health risk when absorbed.It is very important to control the concentration of pollutants (pm2.5) to reduce health hazards and hospital readmission resulting from pollutant related diseases. For the considered year, we observed that pm2.5 monitoring was minimal."
   ]
  },
  {
   "cell_type": "raw",
   "id": "58aa9e16",
   "metadata": {},
   "source": [
    "# slide plot of pollutants with varying year via slider. I didn't implenet because of issue with my system\n",
    "import plotly.express as px\n",
    "\n",
    "fig = px.line(df, y='pm10', title='pm10 with slider')\n",
    "\n",
    "fig.update_xaxes(\n",
    "    rangeslider_visible = True,\n",
    "    rangeselector =dict(\n",
    "        buttons=list([\n",
    "            dict(count=1, label=\"1y\", step=\"year\", stepmode=\"backward\"),\n",
    "            dict(count=2, label=\"2y\", step=\"year\", stepmode=\"backward\"),\n",
    "            dict(count=3, label=\"3y\", step=\"year\", stepmode=\"backward\")\n",
    "        ])\n",
    "    )\n",
    ")\n",
    "\n",
    "fig.show()"
   ]
  },
  {
   "cell_type": "markdown",
   "id": "9a9e99f1",
   "metadata": {},
   "source": [
    "#### Deductions"
   ]
  },
  {
   "cell_type": "markdown",
   "id": "02034a5a",
   "metadata": {},
   "source": []
  },
  {
   "cell_type": "raw",
   "id": "4f22c241",
   "metadata": {},
   "source": [
    "# taking 50% of the total sample with replacement\n",
    "df.sample(frac=0.5, replace=True, random_state=1)"
   ]
  },
  {
   "cell_type": "raw",
   "id": "a981178f",
   "metadata": {},
   "source": [
    "dfs= df.copy()\n",
    "dfd = df2.iloc[:,:].resample('D').mean()\n",
    "dfd['season'] = dfd.index[:,].map(season_of_date)"
   ]
  },
  {
   "cell_type": "raw",
   "id": "d92914ca",
   "metadata": {},
   "source": [
    "Daily_new = Daily_data.groupby([pd.Grouper(freq='D', key='Date'), 'hotspot','season']).mean()\n",
    "print (Daily_new)"
   ]
  },
  {
   "cell_type": "markdown",
   "id": "cf463bc1-67a7-4f85-8a05-cc1ba5ddd351",
   "metadata": {},
   "source": [
    "### time series modelling for pm10 pollutant Daily mean data for 10years"
   ]
  },
  {
   "cell_type": "code",
   "execution_count": null,
   "id": "d268bc62",
   "metadata": {},
   "outputs": [],
   "source": [
    "df_Daily.head()"
   ]
  },
  {
   "cell_type": "code",
   "execution_count": null,
   "id": "624f57e6",
   "metadata": {},
   "outputs": [],
   "source": [
    "df_pm10 = df_Daily[['pm10','season']]\n",
    "df_pm10.head()\n",
    "df_pm10.shape"
   ]
  },
  {
   "cell_type": "code",
   "execution_count": null,
   "id": "501d91e7-3a9c-49af-8f7c-b50184b3e11f",
   "metadata": {},
   "outputs": [],
   "source": [
    "df_pm10.drop('season', axis=1,inplace=True)"
   ]
  },
  {
   "cell_type": "code",
   "execution_count": null,
   "id": "4640b4eb-a784-45e5-a1f7-ce0c77ba383d",
   "metadata": {},
   "outputs": [],
   "source": [
    "df_pm10.head()"
   ]
  },
  {
   "cell_type": "code",
   "execution_count": null,
   "id": "b9166ace-c61f-43f3-aba1-4c39235c4b87",
   "metadata": {},
   "outputs": [],
   "source": [
    "# plot graph of pm10\n",
    "\n",
    "plt.xlabel('Date')\n",
    "plt.ylabel('pm10 pollutant concentration')\n",
    "plt.plot(df_pm10)"
   ]
  },
  {
   "cell_type": "code",
   "execution_count": null,
   "id": "52db84b1-278f-4d4a-b159-856628830bbf",
   "metadata": {},
   "outputs": [],
   "source": [
    "# determine if data is stationary(consistnet mean) using rolling statics and ADCF plot\n",
    "\n",
    "# determine rolling statistics and using daily data, hence window size will be (365)\n",
    "rolmean = df_pm10.rolling(window=365).mean()\n",
    "\n",
    "# standard deviation\n",
    "rolstd = df_pm10.rolling(window=365).std()\n",
    "#print(rolmean, rolstd)\n"
   ]
  },
  {
   "cell_type": "code",
   "execution_count": null,
   "id": "888caf02-fab5-460e-ac23-c48c59af6739",
   "metadata": {},
   "outputs": [],
   "source": [
    "rolmean.plot()\n",
    "rolstd.plot()"
   ]
  },
  {
   "cell_type": "markdown",
   "id": "73f7a848-7e6d-415d-a37e-04481538682c",
   "metadata": {},
   "source": [
    "###### The moving averages removes the noise from the plot and we can clearly see the pattern from graph which was not well displayed originally. Series smoothing"
   ]
  },
  {
   "cell_type": "code",
   "execution_count": null,
   "id": "e2fc22a5-ca05-44be-92d3-5224cc40e396",
   "metadata": {},
   "outputs": [],
   "source": [
    "# plot rolling statistics:\n",
    "orig = plt.plot(df_pm10, color='blue', label='Original')\n",
    "mean = plt.plot(rolmean, color='red', label='Rolling Mean')\n",
    "std = plt.plot(rolstd, color='black', label='Rolling std')\n",
    "plt.legend(loc='best')\n",
    "plt.title('Rolling Mean and Standard Deviation')\n",
    "plt.show(block=False, )\n"
   ]
  },
  {
   "cell_type": "markdown",
   "id": "dcc49dc3-731e-45b6-90f2-d5ca7bad16d5",
   "metadata": {},
   "source": [
    "datasetLogScaleMinusMovingAverage = df_pm10_logScale - movingAverage\n",
    "datasetLogScaleMinusMovingAverage.head(10)\n",
    "\n",
    "#Remove NaN values\n",
    "datasetLogScaleMinusMovingAverage.dropna(inplace=True)\n",
    "datasetLogScaleMinusMovingAverage.head(10)\n"
   ]
  },
  {
   "cell_type": "code",
   "execution_count": null,
   "id": "6c1da00f-8dac-4927-9d58-00b101ed81bb",
   "metadata": {},
   "outputs": [],
   "source": [
    "# Dickey-Fuller test\n",
    "from statsmodels.tsa.stattools import adfuller\n",
    "\n",
    "print ('Results of Dickey-Fuller test: ')\n",
    "dftest = adfuller(df_pm10['pm10'],autolag='AIC')\n",
    "\n",
    "dfoutput = pd.Series(dftest[0:4], index=['Test Statistics','p-value','#Lags Used','Number of Observations Used'])\n",
    "for key,value in dftest[4].items():\n",
    "    dfoutput['Critical Value (%s)'%key]= value\n",
    "    \n",
    "print(dfoutput)    "
   ]
  },
  {
   "cell_type": "markdown",
   "id": "c287c667-2323-4fa1-ba58-2894093d2197",
   "metadata": {},
   "source": [
    "p-value should always be less, also the critical value should be more than the test statistics.\n",
    "From the above value from the Dickey -fuller test we can confirm that the plot is stationary.\n",
    "More so the value from the rolling window mean and std shows constant mean and std whic support stationary plot, \n",
    "hence we conclude that the plot is stationary. The test statistics and critical value help to determine if our plot is stationary or not"
   ]
  },
  {
   "cell_type": "code",
   "execution_count": null,
   "id": "edfaadee-fcfa-434c-9245-a2a017e7e2cc",
   "metadata": {},
   "outputs": [],
   "source": [
    "# Trend estimation\n",
    "import numpy as np\n",
    "df_pm10_logScale = np.log(df_pm10)\n",
    "plt.plot(df_pm10_logScale )"
   ]
  },
  {
   "cell_type": "markdown",
   "id": "b76dc1c3-991f-4808-8722-98714be630ae",
   "metadata": {},
   "source": [
    "taking the log of the data set and plot it, so that we can estimate the trend of the plot"
   ]
  },
  {
   "cell_type": "code",
   "execution_count": null,
   "id": "f0957f4b-772a-4e27-91cd-3b5c1995528a",
   "metadata": {},
   "outputs": [],
   "source": [
    "movingAverage = df_pm10_logScale.rolling(window=365).mean()\n",
    "movingSTD = df_pm10_logScale.rolling(window=365).std()\n",
    "plt.plot(df_pm10_logScale)\n",
    "plt.plot(movingAverage, color='red')\n",
    "plt.plot(movingSTD, color='yellow')\n"
   ]
  },
  {
   "cell_type": "markdown",
   "id": "9af108c9-0c0a-4cfa-bee5-131412225bc1",
   "metadata": {},
   "source": [
    "The above plot also confirm that the mean is stationary. The standard deviation is just flat and not moving differently. Th emean is not changing"
   ]
  },
  {
   "cell_type": "code",
   "execution_count": null,
   "id": "df7a0b58-ee28-4add-9062-9bb824edf0ae",
   "metadata": {},
   "outputs": [],
   "source": [
    "# since we confirm the plot is stationary\n",
    "datasetlogDiffShfiting = df_pm10_logScale - df_pm10_logScale.shift()\n",
    "plt.plot(datasetlogDiffShfiting)"
   ]
  },
  {
   "cell_type": "markdown",
   "id": "531dfbc5-4829-4ddb-acb3-f0bb363094b4",
   "metadata": {},
   "source": [
    "the above plot depicts that our data is stationary"
   ]
  },
  {
   "cell_type": "code",
   "execution_count": null,
   "id": "0e39301d-1b50-46e1-b0ad-b6b9c86606f1",
   "metadata": {},
   "outputs": [],
   "source": [
    "movingAverage1 = datasetlogDiffShfiting.rolling(window=365).mean()\n",
    "movingSTD1 = datasetlogDiffShfiting.rolling(window=365).std()\n",
    "plt.plot(datasetlogDiffShfiting)\n",
    "plt.plot(movingAverage1, color='red')\n",
    "plt.plot(movingSTD1, color='yellow')"
   ]
  },
  {
   "cell_type": "markdown",
   "id": "1cf820b4-21dc-4539-835c-57e5c6d847cd",
   "metadata": {},
   "source": [
    "The above plot, showing the rolling window mean and std \n",
    "reflect that the plot is now a stationary plot, hence we can apply TML"
   ]
  },
  {
   "cell_type": "code",
   "execution_count": null,
   "id": "2f3bf1d1-6aef-4f84-9f5e-f851467bbdea",
   "metadata": {},
   "outputs": [],
   "source": [
    "datasetlogDiffShfiting = df_pm10_logScale - df_pm10_logScale.shift()\n",
    "plt.plot(datasetlogDiffShfiting)"
   ]
  },
  {
   "cell_type": "code",
   "execution_count": null,
   "id": "414a6870-4064-42d6-9948-5e5cee8345e9",
   "metadata": {},
   "outputs": [],
   "source": [
    "datasetLogScaleMinusMovingAverage = df_pm10_logScale - movingAverage\n",
    "datasetLogScaleMinusMovingAverage.head(10)\n",
    "\n",
    "#Remove NaN values\n",
    "datasetLogScaleMinusMovingAverage.dropna(inplace=True)\n",
    "datasetLogScaleMinusMovingAverage.head(10)"
   ]
  },
  {
   "cell_type": "code",
   "execution_count": null,
   "id": "5ac02c9d-deb4-45b8-b938-ab03980ec2f7",
   "metadata": {},
   "outputs": [],
   "source": [
    "from statsmodels.tsa.stattools import adfuller\n",
    "def test_stationarity(timeseries):\n",
    "    \n",
    "    #Determing rolling statistics\n",
    "    movingAverage = timeseries.rolling(window=365).mean()\n",
    "    movingSTD = timeseries.rolling(window=365).std()\n",
    "    \n",
    "    \n",
    "    #plot rolling statistics:\n",
    "    orig = plt.plot(timeseries, color='blue', label='Original')\n",
    "    mean = plt.plot(timeseries, color='red', label='Rolling mean')\n",
    "    std = plt.plot(timeseries, color='black', label='Rolling std')\n",
    "    plt.legend(loc='best')\n",
    "    plt.title('Rolling Mean & Standard Deviation')\n",
    "    plt.show(block=False)\n",
    "    \n",
    "    #Perform Dickey-Fuller test:\n",
    "    print ('Results of Dickey-Fuller test: ')\n",
    "    dftest = adfuller(df_pm10['pm10'],autolag='AIC')\n",
    "\n",
    "    dfoutput = pd.Series(dftest[0:4], index=['Test Statistics','p-value','#Lags Used','Number of Observations Used'])\n",
    "    for key,value in dftest[4].items():\n",
    "        dfoutput['Critical Value (%s)'%key]= value\n",
    "\n",
    "    print(dfoutput)\n",
    "\n",
    "    "
   ]
  },
  {
   "cell_type": "code",
   "execution_count": null,
   "id": "f5f24183-9943-4d13-bb45-e7b1398dad0d",
   "metadata": {},
   "outputs": [],
   "source": [
    "test_stationarity(datasetLogScaleMinusMovingAverage)"
   ]
  },
  {
   "cell_type": "code",
   "execution_count": null,
   "id": "64b67835-d698-4ff7-a526-16da970a7493",
   "metadata": {},
   "outputs": [],
   "source": [
    "# components of timeseries\n",
    "from statsmodels.tsa.seasonal import seasonal_decompose\n",
    "decomposition = seasonal_decompose(df_pm10_logScale)\n",
    "\n",
    "trend = decomposition.trend\n",
    "seasonal = decomposition.seasonal\n",
    "residual = decomposition.resid\n",
    "\n",
    "plt.subplot(411)\n",
    "plt.plot(df_pm10_logScale, label='original')\n",
    "plt.legend(loc='best')\n",
    "plt.subplot(412)\n",
    "plt.plot(trend, label='Trend')\n",
    "plt.legend(loc='best')\n",
    "plt.subplot(413)\n",
    "plt.plot(seasonal, label='Seasonality')\n",
    "plt.legend(loc='best')\n",
    "plt.subplot(413)\n",
    "plt.plot(residual, label='Residuals')\n",
    "plt.legend(loc='best')\n",
    "plt.tight_layout()\n",
    "\n",
    "\n",
    "decomposedLogData = residual \n",
    "decomposedLogData.dropna(inplace=True)\n",
    "test_stationarity(decomposedLogData)"
   ]
  },
  {
   "cell_type": "code",
   "execution_count": null,
   "id": "f8a76140-8323-44e9-aca2-7011de571640",
   "metadata": {},
   "outputs": [],
   "source": [
    "decomposedLogData = residual \n",
    "decomposedLogData.dropna(inplace=True)\n",
    "test_stationarity(decomposedLogData)"
   ]
  },
  {
   "cell_type": "code",
   "execution_count": null,
   "id": "68db7974-a7f0-4e5e-a066-30dadec5d02a",
   "metadata": {},
   "outputs": [],
   "source": [
    "exponentialDecayweightedAverage = df_pm10_logScale.ewm(halflife=365, min_periods=0, adjust=True).mean()\n",
    "plt.plot(df_pm10_logScale)\n",
    "plt.plot(exponentialDecayweightedAverage, color='red')\n"
   ]
  },
  {
   "cell_type": "code",
   "execution_count": null,
   "id": "615fc99b-64e9-4676-9048-996a82a48fde",
   "metadata": {},
   "outputs": [],
   "source": [
    "df_pm10_logScaleMinusMovingExponentialDecayAverage = df_pm10_logScale - exponentialDecayweightedAverage\n",
    "plt.plot(df_pm10_logScale)\n",
    "plt.plot(df_pm10_logScaleMinusMovingExponentialDecayAverage, color='red')"
   ]
  },
  {
   "cell_type": "code",
   "execution_count": null,
   "id": "0281ce12-d6a4-4f7b-80e8-46b5bb9cf83d",
   "metadata": {},
   "outputs": [],
   "source": [
    "test_stationarity(df_pm10_logScaleMinusMovingExponentialDecayAverage)"
   ]
  },
  {
   "cell_type": "code",
   "execution_count": null,
   "id": "9301a5dd-efb3-45e1-b824-ea168067ce1e",
   "metadata": {},
   "outputs": [],
   "source": [
    "datasetLogDiffShifting = df_pm10_logScale - df_pm10_logScale.shift()\n",
    "plt.plot(datasetLogDiffShifting)"
   ]
  },
  {
   "cell_type": "code",
   "execution_count": null,
   "id": "9b3d7cdd-22ca-4a54-8e12-aa9f62d0d927",
   "metadata": {},
   "outputs": [],
   "source": [
    "datasetLogDiffShifting.dropna(inplace=True)\n",
    "test_stationarity(datasetLogDiffShifting)"
   ]
  },
  {
   "cell_type": "code",
   "execution_count": null,
   "id": "d978ac19-e623-4011-af65-4b5f45e0168b",
   "metadata": {},
   "outputs": [],
   "source": [
    "#ACF and PACF plots : \n",
    "\n",
    "from statsmodels.tsa.stattools import acf, pacf\n",
    "\n",
    "lag_acf = acf(datasetLogDiffShifting, nlags=20)\n",
    "# applying 'ols' ordinary least square method\n",
    "lag_pacf = pacf(datasetLogDiffShifting, nlags=20, method='ols')\n",
    "\n",
    "# we are plotting this graph to be able to determine value of Pand Q (AR(P)I MA(Q)\n",
    "#plot ACF:\n",
    "plt.subplot(121)\n",
    "plt.plot(lag_acf)\n",
    "plt.axhline(y=0,linestyle='--', color='gray')\n",
    "plt.axhline(y=-1.96/np.sqrt(len(datasetLogDiffShifting)),linestyle='--', color='gray')\n",
    "plt.axhline(y=1.96/np.sqrt(len(datasetLogDiffShifting)),linestyle='--', color='gray')\n",
    "plt.title('Autocorrelation function')\n",
    "\n",
    "#plot pacf:\n",
    "plt.subplot(122)\n",
    "plt.plot(lag_pacf)\n",
    "plt.axhline(y=0,linestyle='--', color='gray')\n",
    "plt.axhline(y=-1.96/np.sqrt(len(datasetLogDiffShifting)),linestyle='--', color='gray')\n",
    "plt.axhline(y=1.96/np.sqrt(len(datasetLogDiffShifting)),linestyle='--', color='gray')\n",
    "plt.title('Partial Autocorrelation function')\n",
    "plt.tight_layout()\n"
   ]
  },
  {
   "cell_type": "markdown",
   "id": "be355a58-b7d5-4594-9316-9444f5040b9a",
   "metadata": {},
   "source": [
    "Above is the correlation plot for partial and autocorrelation plots, to estimae the P and Q value, \n",
    "we look the value at which the point where the graph touches the zero line for the first time. Or the point hwere the graph drops\n",
    "to zero for the first time.From the above plot the value of P and Q is 1 as well can see and this value will the substituted into the ARIMA model.\n",
    "First lets imprt the ARIMA model as below"
   ]
  },
  {
   "cell_type": "code",
   "execution_count": null,
   "id": "cf013701-4453-4616-b015-916122686d9b",
   "metadata": {},
   "outputs": [],
   "source": [
    "from statsmodels.tsa.arima.model import ARIMA\n",
    "import statsmodels.api as smapi\n",
    "from datetime import timedelta\n",
    "model = smapi.tsa.arima.ARIMA(df_pm10_logScale, order=(1,1,1))\n",
    "\n",
    "results = model.fit()\n",
    "\n",
    "#model = ARIMA(df_pm10_logScale, order=(1,1,1))#PdQ\n",
    "#results_AR = model.fit(disp=-1)\n",
    "plt.plot(datasetLogDiffShifting)\n",
    "plt.plot(results.fittedvalues, color='Red')\n",
    "print(results)\n",
    "#plt.title('RSS: %.4f'% sum((results.fittedvalues - datasetLogDiffShifting)**2))#RSS residual sum of square\n",
    "print('plotting AR model')\n",
    "\n",
    "\n",
    "          "
   ]
  },
  {
   "cell_type": "code",
   "execution_count": null,
   "id": "4ffb49f4-f589-4eb3-9a32-711d854a4f9a",
   "metadata": {},
   "outputs": [],
   "source": [
    "# Moving Average Model\n",
    "model = smapi.tsa.arima.ARIMA(df_pm10_logScale, order=(2,1,0))\n",
    "#model = ARIMA(df_pm10_logScale, order=(2,1,0))#PdQ\n",
    "results_MA = model.fit()\n",
    "plt.plot(datasetLogDiffShifting)\n",
    "plt.plot(results_MA.fittedvalues, color='Red')\n",
    "print(results_MA)\n",
    "print('plotting AR model')\n",
    "#plt.title('RSS: %.4f'% sum((results_MA.fittedvalues-datasetLogDiffShifting)**2))#RSS residual sum of square\n"
   ]
  },
  {
   "cell_type": "code",
   "execution_count": null,
   "id": "95410b43-197c-4930-8115-3f757c4e3dc5",
   "metadata": {},
   "outputs": [],
   "source": [
    "model = ARIMA(df_pm10_logScale, order=(2,0,0))\n",
    "results_ARIMA = model.fit()\n",
    "plt.plot(datasetLogDiffShifting)\n",
    "plt.plot(results_ARIMA.fittedvalues, color='Red')\n",
    "#plt.title('RSS: %.4f'% sum((results_ARIMA.fittedvalues-datasetLogDiffShifting)**2))"
   ]
  },
  {
   "cell_type": "code",
   "execution_count": null,
   "id": "327ceddc-182c-4273-ab28-432a341c6304",
   "metadata": {},
   "outputs": [],
   "source": [
    "predictions_ARIMA_diff = pd.Series(results_ARIMA.fittedvalues, copy=True)\n",
    "print(predictions_ARIMA_diff.head())"
   ]
  },
  {
   "cell_type": "code",
   "execution_count": null,
   "id": "a541484b-0811-4e48-8049-52e51894d020",
   "metadata": {},
   "outputs": [],
   "source": [
    "#Convert to cumulative sum\n",
    "predictions_ARIMA_diff_cumsum = predictions_ARIMA_diff.cumsum()\n",
    "print(predictions_ARIMA_diff_cumsum.head())"
   ]
  },
  {
   "cell_type": "code",
   "execution_count": null,
   "id": "62b82e44-ee34-4e4f-b9d8-d295c48744a6",
   "metadata": {},
   "outputs": [],
   "source": [
    "predictions_ARIMA_log = pd.Series(df_pm10['pm10'][0],index=df_pm10_logScale.index)\n",
    "predictions_ARIMA_log = predictions_ARIMA_log.add(predictions_ARIMA_diff_cumsum, fill_value=0)\n",
    "predictions_ARIMA_log.head()"
   ]
  },
  {
   "cell_type": "code",
   "execution_count": null,
   "id": "5dd237c5-3579-4632-9194-60cbb6c09c38",
   "metadata": {},
   "outputs": [],
   "source": [
    "# original plot vs predicted plot\n",
    "plt.plot(df_pm10_logScale)\n",
    "plt.plot(predictions_ARIMA_diff)"
   ]
  },
  {
   "cell_type": "raw",
   "id": "4472287f",
   "metadata": {},
   "source": [
    "df_pm10_logScale.describe()"
   ]
  },
  {
   "cell_type": "raw",
   "id": "d80e0558",
   "metadata": {},
   "source": [
    "pip install statsmodels --upgrade"
   ]
  },
  {
   "cell_type": "code",
   "execution_count": null,
   "id": "b76b2ba2-c812-41b4-83c7-93718a641af0",
   "metadata": {},
   "outputs": [],
   "source": [
    "results_ARIMA.plot_diagnostics()"
   ]
  },
  {
   "cell_type": "code",
   "execution_count": null,
   "id": "ac1d54ce-0223-4b19-ae33-b0b1cdae5aba",
   "metadata": {},
   "outputs": [],
   "source": [
    "# 10years prediction\n",
    "plt.plot(results_ARIMA.predict(1,7304))\n",
    "results_ARIMA.forecast(steps=120)"
   ]
  },
  {
   "cell_type": "code",
   "execution_count": null,
   "id": "c9cb89af-c0e9-4838-b891-07507793f047",
   "metadata": {},
   "outputs": [],
   "source": [
    "results_ARIMA.summary()"
   ]
  },
  {
   "cell_type": "code",
   "execution_count": null,
   "id": "600ded6e-4596-42aa-a4e9-ad5d1ad9701e",
   "metadata": {},
   "outputs": [],
   "source": []
  },
  {
   "cell_type": "code",
   "execution_count": null,
   "id": "34f5b5e2-5544-4154-b0ad-9c8c237a9aec",
   "metadata": {},
   "outputs": [],
   "source": []
  },
  {
   "cell_type": "code",
   "execution_count": null,
   "id": "0cabbe35-704f-4816-9aa9-f2d5132b63bd",
   "metadata": {},
   "outputs": [],
   "source": []
  },
  {
   "cell_type": "code",
   "execution_count": null,
   "id": "251ab5af-4c6a-46a0-9ef2-28e08b7434d0",
   "metadata": {},
   "outputs": [],
   "source": []
  },
  {
   "cell_type": "code",
   "execution_count": null,
   "id": "30da85b2-472b-485e-a6af-50bf66901f59",
   "metadata": {},
   "outputs": [],
   "source": []
  },
  {
   "cell_type": "code",
   "execution_count": null,
   "id": "d41ed828-115a-4678-a82a-6ca535501e02",
   "metadata": {},
   "outputs": [],
   "source": []
  },
  {
   "cell_type": "code",
   "execution_count": null,
   "id": "f37220d9-4a7a-4057-bc01-0bbc6bd3caa1",
   "metadata": {},
   "outputs": [],
   "source": []
  },
  {
   "cell_type": "code",
   "execution_count": null,
   "id": "c8a41a14-7148-4d9f-8909-cfa9f4426689",
   "metadata": {},
   "outputs": [],
   "source": []
  },
  {
   "cell_type": "code",
   "execution_count": null,
   "id": "79dd81e2-c179-45bc-9331-ce9809ac93e1",
   "metadata": {},
   "outputs": [],
   "source": []
  }
 ],
 "metadata": {
  "kernelspec": {
   "display_name": "Python 3 (ipykernel)",
   "language": "python",
   "name": "python3"
  },
  "language_info": {
   "codemirror_mode": {
    "name": "ipython",
    "version": 3
   },
   "file_extension": ".py",
   "mimetype": "text/x-python",
   "name": "python",
   "nbconvert_exporter": "python",
   "pygments_lexer": "ipython3",
   "version": "3.10.0"
  }
 },
 "nbformat": 4,
 "nbformat_minor": 5
}
